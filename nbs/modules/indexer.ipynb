{
 "cells": [
  {
   "cell_type": "code",
   "execution_count": null,
   "metadata": {},
   "outputs": [],
   "source": [
    "#| default_exp indexer"
   ]
  },
  {
   "cell_type": "code",
   "execution_count": 2,
   "metadata": {},
   "outputs": [
    {
     "ename": "ModuleNotFoundError",
     "evalue": "No module named 'projetMAB1'",
     "output_type": "error",
     "traceback": [
      "\u001b[1;31m---------------------------------------------------------------------------\u001b[0m",
      "\u001b[1;31mModuleNotFoundError\u001b[0m                       Traceback (most recent call last)",
      "Cell \u001b[1;32mIn[2], line 10\u001b[0m\n\u001b[0;32m      7\u001b[0m \u001b[38;5;28;01mfrom\u001b[39;00m \u001b[38;5;21;01mshutil\u001b[39;00m \u001b[38;5;28;01mimport\u001b[39;00m copy\n\u001b[0;32m      8\u001b[0m \u001b[38;5;28;01mfrom\u001b[39;00m \u001b[38;5;21;01mpathlib\u001b[39;00m \u001b[38;5;28;01mimport\u001b[39;00m Path\n\u001b[1;32m---> 10\u001b[0m \u001b[38;5;28;01mfrom\u001b[39;00m \u001b[38;5;21;01mprojetMAB1\u001b[39;00m\u001b[38;5;21;01m.\u001b[39;00m\u001b[38;5;21;01mstorage\u001b[39;00m \u001b[38;5;28;01mimport\u001b[39;00m Storage\n\u001b[0;32m     11\u001b[0m \u001b[38;5;28;01mfrom\u001b[39;00m \u001b[38;5;21;01mprojetMAB1\u001b[39;00m\u001b[38;5;21;01m.\u001b[39;00m\u001b[38;5;21;01mmodel\u001b[39;00m \u001b[38;5;28;01mimport\u001b[39;00m Model\n",
      "\u001b[1;31mModuleNotFoundError\u001b[0m: No module named 'projetMAB1'"
     ]
    }
   ],
   "source": [
    "#| export\n",
    "import ffmpeg\n",
    "import numpy as np\n",
    "import pandas as pd\n",
    "\n",
    "from PIL import Image\n",
    "from shutil import copy\n",
    "from pathlib import Path\n",
    "\n",
    "from projetMAB1.storage import Storage\n",
    "from projetMAB1.model import Model"
   ]
  },
  {
   "cell_type": "code",
   "execution_count": null,
   "metadata": {},
   "outputs": [],
   "source": [
    "#|export\n",
    "def index(video_path: str, threshold = 0.10):\n",
    "\n",
    "    video_name = Path(video_path).name\n",
    "\n",
    "    if Path(video_path) != Path(\"../data/runtime/videos/\" + video_name):\n",
    "        copy(video_path, \"../data/runtime/videos/\" + video_name)\n",
    "\n",
    "    out, _ = (\n",
    "        ffmpeg.input(video_path, loglevel=\"warning\")\n",
    "        .filter('scale', size=\"film\")\n",
    "        .output('pipe:', format='rawvideo', pix_fmt='rgb24')\n",
    "        .run(capture_stdout=True)\n",
    "    )\n",
    "\n",
    "    film = 352, 240\n",
    "    width, height = film\n",
    "\n",
    "    images = (\n",
    "        np.frombuffer(out, np.uint8)\n",
    "        .reshape([-1, height, width, 3])\n",
    "    )\n",
    "\n",
    "    df = Storage.load()\n",
    "\n",
    "    empty_df = True if \"video_name\" not in df.columns else False\n",
    "\n",
    "    model = Model()\n",
    "    image_features = model.get_image_features(images)\n",
    "\n",
    "    slices = [0]\n",
    "    threshold = 0.15\n",
    "    for i in range(1, len(images)):\n",
    "        if 1 - image_features[i-1] @ image_features[i] >= threshold:\n",
    "            slices.append(i)\n",
    "    \n",
    "    slices.append(len(images)+1)\n",
    "\n",
    "    entries = []\n",
    "    video_name = Path(video_path).stem\n",
    "    for i in range(len(slices)-1):\n",
    "        start = slices[i]\n",
    "        end = slices[i+1]\n",
    "        preview_name = f\"{video_name}_{start}_{end}.png\"\n",
    "        entries.append((video_name, preview_name, start, end))\n",
    "\n",
    "        Image.fromarray(images[slices[i]]).save(\"../data/runtime/frames/\" + preview_name)\n",
    "\n",
    "    new_df = pd.DataFrame(data = entries, columns= [\"video_name\", \"preview_name\", \"start\", \"end\"])\n",
    "\n",
    "    if empty_df:\n",
    "        df = new_df\n",
    "    else:\n",
    "        df = pd.concat([df, new_df], ignore_index=True)\n",
    "\n",
    "    df.to_pickle(\"../data/runtime/index.pkl\")"
   ]
  },
  {
   "cell_type": "code",
   "execution_count": null,
   "metadata": {},
   "outputs": [],
   "source": [
    "df = pd.read_pickle(\"../data/runtime/index.pkl\")\n",
    "df = df.drop(df.index)\n",
    "df.to_pickle(\"../data/runtime/index.pkl\")"
   ]
  },
  {
   "cell_type": "code",
   "execution_count": null,
   "metadata": {},
   "outputs": [],
   "source": [
    "videos = sorted(Path(\"../data/runtime/videos/\").glob(\"*.mp4\"))\n",
    "for video in videos:\n",
    "    index(str(video))"
   ]
  },
  {
   "cell_type": "code",
   "execution_count": null,
   "metadata": {},
   "outputs": [],
   "source": [
    "pd.read_pickle(\"../data/runtime/index.pkl\")"
   ]
  },
  {
   "cell_type": "code",
   "execution_count": null,
   "metadata": {},
   "outputs": [],
   "source": [
    "#| hide\n",
    "import nbdev; nbdev.nbdev_export()"
   ]
  }
 ],
 "metadata": {
  "kernelspec": {
   "display_name": "Python 3",
   "language": "python",
   "name": "python3"
  },
  "language_info": {
   "codemirror_mode": {
    "name": "ipython",
    "version": 3
   },
   "file_extension": ".py",
   "mimetype": "text/x-python",
   "name": "python",
   "nbconvert_exporter": "python",
   "pygments_lexer": "ipython3",
   "version": "3.10.10"
  }
 },
 "nbformat": 4,
 "nbformat_minor": 2
}
