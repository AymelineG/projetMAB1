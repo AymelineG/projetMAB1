{
 "cells": [
  {
   "cell_type": "code",
   "execution_count": 218,
   "metadata": {},
   "outputs": [],
   "source": [
    "import ffmpeg\n",
    "import gradio as gr\n",
    "\n",
    "from pathlib import Path\n",
    "from datetime import datetime\n",
    "from gradio_videogallery import videogallery\n",
    "from projetMAB1.model import Model\n",
    "from projetMAB1.indexer import index\n",
    "from projetMAB1.assembler import assembly"
   ]
  },
  {
   "cell_type": "code",
   "execution_count": 219,
   "metadata": {},
   "outputs": [],
   "source": [
    "VIDEO_FOLDER_PATH = \"../../data/runtime/videos/\"\n",
    "EXPORT_FOLDER_PATH = \"../../data/runtime/export/\"\n",
    "model = Model()"
   ]
  },
  {
   "cell_type": "code",
   "execution_count": 220,
   "metadata": {},
   "outputs": [],
   "source": [
    "def query(text):\n",
    "    matches = model.query(text)\n",
    "    path_video_matches = [video_path for video_path, _ in matches]\n",
    "    video_matches = [[Path(video)] for video in path_video_matches]\n",
    "    resume_video = assembly(path_video_matches)\n",
    "    print(video_matches)\n",
    "    return gr.Dataset(samples=video_matches), resume_video"
   ]
  },
  {
   "cell_type": "code",
   "execution_count": 221,
   "metadata": {},
   "outputs": [],
   "source": [
    "videos = sorted(Path(\"../../data/runtime/videos/\").glob(\"*.mp4\"))\n",
    "images = sorted(Path(\"../../data/runtime/frames/\").glob(\"*.png\"))\n",
    "fragments = sorted(Path(\"../../data/runtime/fragments\").glob(\"*.mp4\"))\n",
    "images_by_video = {}\n",
    "fragments_by_video = {}\n",
    "video_by_images = {}\n",
    "\n",
    "for image in images:\n",
    "\n",
    "    key = image.stem.split(\"_\")[0]\n",
    "    if key not in images_by_video:\n",
    "        images_by_video[key] = [image]\n",
    "    else:\n",
    "        images_by_video[key].append(image)\n",
    "    video_by_images[image] = key\n",
    "\n",
    "for fragment in fragments:\n",
    "\n",
    "    key = fragment.stem.split(\"_\")[0]\n",
    "    if key not in fragments_by_video:\n",
    "        fragments_by_video[key] = [fragment]\n",
    "    else:\n",
    "        fragments_by_video[key].append(fragment)"
   ]
  },
  {
   "cell_type": "code",
   "execution_count": 222,
   "metadata": {},
   "outputs": [],
   "source": [
    "def export(gallery, evt: gr.SelectData):\n",
    "    video_name, start_frame, end_frame = Path(gallery[evt.index][\"name\"]).stem.split(\"_\")\n",
    "    in_file = ffmpeg.input(f\"{VIDEO_FOLDER_PATH}{video_name}.mp4\", loglevel='warning', copyts=None)\n",
    "    out_file = f\"{EXPORT_FOLDER_PATH}{datetime.now()}.mp4\"\n",
    "    (\n",
    "        ffmpeg.concat(in_file.trim(start_frame=start_frame, end_frame=end_frame),\n",
    "                      )\n",
    "        .filter('stepts', expr='PTS-STARTPTS')\n",
    "        .ouput(out_file).run()\n",
    "    )"
   ]
  },
  {
   "cell_type": "code",
   "execution_count": 223,
   "metadata": {},
   "outputs": [],
   "source": [
    "examples = [\n",
    "    [\"A tennis match\"],\n",
    "\t[\"A footbal match\"],\n",
    "\t[\"A baseball match\"],\n",
    "\t[\"Cooking\"],\n",
    "\t[\"A video game\"],\n",
    "\t[\"A political man\"],\n",
    "\t[\"A political debate\"],\n",
    "\t[\"Barack Obama\"],\n",
    "\t[\"Abraham Lincoln\"],\n",
    "\t[\"A concert\"],\n",
    "\t[\"A computer screen\"],\n",
    "\t[\"Advertising\"],\n",
    "\t[\"Dragon ball\"],\n",
    "\t[\"A pair of shoes\"],\n",
    "\t[\"Elephants\"],\n",
    "\t[\"An iPhone\"],\n",
    "\t[\"A video clip\"],\n",
    "\t[\"A drawing\"],\n",
    "\t[\"A film\"],\n",
    "\t[\"A makeup tutorial\"],\n",
    "\t[\"Industrial machinery\"],\n",
    "\t[\"A person repairing a car\"]\n",
    "]"
   ]
  },
  {
   "cell_type": "code",
   "execution_count": 224,
   "metadata": {},
   "outputs": [
    {
     "name": "stdout",
     "output_type": "stream",
     "text": [
      "[[PosixPath('../../data/runtime/fragments/unicorn_0_333.mp4')]]\n",
      "[[PosixPath('../../data/runtime/fragments/video0_0_52.mp4')], [PosixPath('../../data/runtime/fragments/video0_175_286.mp4')], [PosixPath('../../data/runtime/fragments/video0_286_301.mp4')], [PosixPath('../../data/runtime/fragments/video0_52_175.mp4')]]\n",
      "[[PosixPath('../../data/runtime/fragments/video1_0_106.mp4')], [PosixPath('../../data/runtime/fragments/video1_106_194.mp4')], [PosixPath('../../data/runtime/fragments/video1_194_473.mp4')]]\n",
      "[[PosixPath('../../data/runtime/fragments/video2_0_212.mp4')], [PosixPath('../../data/runtime/fragments/video2_212_341.mp4')], [PosixPath('../../data/runtime/fragments/video2_341_423.mp4')], [PosixPath('../../data/runtime/fragments/video2_423_492.mp4')], [PosixPath('../../data/runtime/fragments/video2_492_579.mp4')], [PosixPath('../../data/runtime/fragments/video2_579_623.mp4')]]\n",
      "[[PosixPath('../../data/runtime/fragments/video3_0_98.mp4')], [PosixPath('../../data/runtime/fragments/video3_98_165.mp4')]]\n",
      "Running on local URL:  http://127.0.0.1:7890\n",
      "\n",
      "To create a public link, set `share=True` in `launch()`.\n"
     ]
    },
    {
     "data": {
      "text/html": [
       "<div><iframe src=\"http://127.0.0.1:7890/\" width=\"100%\" height=\"500\" allow=\"autoplay; camera; microphone; clipboard-read; clipboard-write;\" frameborder=\"0\" allowfullscreen></iframe></div>"
      ],
      "text/plain": [
       "<IPython.core.display.HTML object>"
      ]
     },
     "metadata": {},
     "output_type": "display_data"
    },
    {
     "data": {
      "text/plain": []
     },
     "execution_count": 224,
     "metadata": {},
     "output_type": "execute_result"
    },
    {
     "name": "stdout",
     "output_type": "stream",
     "text": [
      "[[PosixPath('../../data/runtime/fragments/video0_286_301.mp4')], [PosixPath('../../data/runtime/fragments/video0_0_52.mp4')], [PosixPath('../../data/runtime/fragments/video0_175_286.mp4')]]\n"
     ]
    }
   ],
   "source": [
    "css = \"footer {display:none !important;} .gradio-container {min-height: 0px !important;}\"\n",
    "with gr.Blocks(theme=gr.themes.Base()) as demo:\n",
    "\n",
    "    gr.Markdown(\"# Montage vidéo\")\n",
    "\n",
    "    with gr.Tab(\"Indexation\"):\n",
    "        video_to_index = gr.Video()\n",
    "        progress = gr.Progress()\n",
    "        index_button = gr.Button(\"Démarrer l'indexation de la vidéo\")\n",
    "\n",
    "    with gr.Tab(\"Gallerie\"):\n",
    "        videos = sorted(Path(\"../../data/runtime/videos/\").glob(\"*.mp4\"))\n",
    "        for video in videos:\n",
    "            with gr.Row():\n",
    "                with gr.Column():\n",
    "                    gr.Video(str(video), label=video.stem)\n",
    "                with gr.Column():\n",
    "                    print([[x] for x in fragments_by_video[video.stem]])\n",
    "                    ds = gr.Dataset(\n",
    "                        components=[gr.Video(visible=False)],\n",
    "                        label=video.name,\n",
    "                        samples=[[x] for x in fragments_by_video[video.stem]]\n",
    "                    )\n",
    "\n",
    "    with gr.Tab(\"Résumé vidéo\"):\n",
    "        resume_text = gr.TextArea(placeholder=\"Ecrivez ici le résumé en anglais\", label=\"Résumé\")\n",
    "        query_button = gr.Button(\"Construire la vidéo\")\n",
    "        matches = gr.Dataset(label=\"Les morceaux de vidéos correspondant à la requête\", components=[gr.Video(visible=False)], samples=[['../../data/runtime/videos/unicorn.mp4']])\n",
    "        video_resume = gr.Video(label=\"Vidéo résumé\")\n",
    "\n",
    "    index_button.click(index, inputs=video_to_index)\n",
    "    query_button.click(query, inputs=resume_text, outputs=[matches, video_resume])\n",
    "    resume_text.submit(query, inputs=resume_text, outputs=[matches, video_resume])\n",
    "\n",
    "demo.launch()"
   ]
  }
 ],
 "metadata": {
  "kernelspec": {
   "display_name": "Python 3",
   "language": "python",
   "name": "python3"
  },
  "language_info": {
   "codemirror_mode": {
    "name": "ipython",
    "version": 3
   },
   "file_extension": ".py",
   "mimetype": "text/x-python",
   "name": "python",
   "nbconvert_exporter": "python",
   "pygments_lexer": "ipython3",
   "version": "3.10.12"
  }
 },
 "nbformat": 4,
 "nbformat_minor": 2
}
