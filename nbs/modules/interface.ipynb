{
 "cells": [
  {
   "cell_type": "code",
   "execution_count": 1,
   "metadata": {},
   "outputs": [
    {
     "ename": "ModuleNotFoundError",
     "evalue": "No module named 'projetMAB1'",
     "output_type": "error",
     "traceback": [
      "\u001b[1;31m---------------------------------------------------------------------------\u001b[0m",
      "\u001b[1;31mModuleNotFoundError\u001b[0m                       Traceback (most recent call last)",
      "Cell \u001b[1;32mIn[1], line 6\u001b[0m\n\u001b[0;32m      4\u001b[0m \u001b[38;5;28;01mfrom\u001b[39;00m \u001b[38;5;21;01mpathlib\u001b[39;00m \u001b[38;5;28;01mimport\u001b[39;00m Path\n\u001b[0;32m      5\u001b[0m \u001b[38;5;28;01mfrom\u001b[39;00m \u001b[38;5;21;01mdatetime\u001b[39;00m \u001b[38;5;28;01mimport\u001b[39;00m datetime\n\u001b[1;32m----> 6\u001b[0m \u001b[38;5;28;01mfrom\u001b[39;00m \u001b[38;5;21;01mprojetMAB1\u001b[39;00m\u001b[38;5;21;01m.\u001b[39;00m\u001b[38;5;21;01mmodel\u001b[39;00m \u001b[38;5;28;01mimport\u001b[39;00m Model\n\u001b[0;32m      7\u001b[0m \u001b[38;5;28;01mfrom\u001b[39;00m \u001b[38;5;21;01mprojetMAB1\u001b[39;00m\u001b[38;5;21;01m.\u001b[39;00m\u001b[38;5;21;01mindexer\u001b[39;00m \u001b[38;5;28;01mimport\u001b[39;00m index\n",
      "\u001b[1;31mModuleNotFoundError\u001b[0m: No module named 'projetMAB1'"
     ]
    }
   ],
   "source": [
    "import ffmpeg\n",
    "import gradio as gr\n",
    "\n",
    "from pathlib import Path\n",
    "from datetime import datetime\n",
    "from projetMAB1.model import Model\n",
    "from projetMAB1.indexer import index"
   ]
  },
  {
   "cell_type": "code",
   "execution_count": 2,
   "metadata": {},
   "outputs": [
    {
     "ename": "NameError",
     "evalue": "name 'Model' is not defined",
     "output_type": "error",
     "traceback": [
      "\u001b[1;31m---------------------------------------------------------------------------\u001b[0m",
      "\u001b[1;31mNameError\u001b[0m                                 Traceback (most recent call last)",
      "Cell \u001b[1;32mIn[2], line 3\u001b[0m\n\u001b[0;32m      1\u001b[0m VIDEO_FOLDER_PATH \u001b[38;5;241m=\u001b[39m \u001b[38;5;124m\"\u001b[39m\u001b[38;5;124m../data/runtime/videos/\u001b[39m\u001b[38;5;124m\"\u001b[39m\n\u001b[0;32m      2\u001b[0m EXPORT_FOLDER_PATH \u001b[38;5;241m=\u001b[39m \u001b[38;5;124m\"\u001b[39m\u001b[38;5;124m../data/runtime/export/\u001b[39m\u001b[38;5;124m\"\u001b[39m\n\u001b[1;32m----> 3\u001b[0m model \u001b[38;5;241m=\u001b[39m \u001b[43mModel\u001b[49m()\n",
      "\u001b[1;31mNameError\u001b[0m: name 'Model' is not defined"
     ]
    }
   ],
   "source": [
    "VIDEO_FOLDER_PATH = \"../data/runtime/videos/\"\n",
    "EXPORT_FOLDER_PATH = \"../data/runtime/export/\"\n",
    "model = Model()"
   ]
  },
  {
   "cell_type": "code",
   "execution_count": null,
   "metadata": {},
   "outputs": [],
   "source": [
    "def query(text, k):\n",
    "    matches = model.query(text, k=k)\n",
    "    return sorted(\n",
    "        [*[(path, '{0:.2f}'.format(similarity)) for path, similarity in matches]],\n",
    "        key = lambda x: x[1], reverse = True\n",
    "    ), [path for path, _ in matches]"
   ]
  },
  {
   "cell_type": "code",
   "execution_count": null,
   "metadata": {},
   "outputs": [],
   "source": [
    "videos = sorted(Path(\"../data/runtime/videos/\").glob(\"*.mp4\"))\n",
    "images = sorted(Path(\"../data/runtime/frames/\").glob(\"*.mp4\"))\n",
    "images_by_video = {}\n",
    "video_by_images = {}\n",
    "\n",
    "for image in images:\n",
    "\n",
    "    key = image.stem.split(\"_\")[0]\n",
    "    if key not in images_by_video:\n",
    "        images_by_video[key] = [image]\n",
    "    else:\n",
    "        images_by_video[key].append(image)\n",
    "\n",
    "    video_by_images[image] = key"
   ]
  },
  {
   "cell_type": "code",
   "execution_count": null,
   "metadata": {},
   "outputs": [],
   "source": [
    "def export(gallery, evt: gr.SelectData):\n",
    "    video_name, start_frame, end_frame = Path(gallery[evt.index][\"name\"]).stem.split(\"_\")\n",
    "    in_file = ffmpeg.input(f\"{VIDEO_FOLDER_PATH}{video_name}.mp4\", loglevel='warning', copyts=None)\n",
    "    out_file = f\"{EXPORT_FOLDER_PATH}{datetime.now()}.mp4\"\n",
    "    (\n",
    "        ffmpeg.concat(in_file.trim(start_frame=start_frame, end_frame=end_frame),\n",
    "                      )\n",
    "        .filter('stepts', expr='PTS-STARTPTS')\n",
    "        .ouput(out_file).run()\n",
    "    )"
   ]
  },
  {
   "cell_type": "code",
   "execution_count": null,
   "metadata": {},
   "outputs": [],
   "source": [
    "examples = [\n",
    "    [\"A tennis match\"],\n",
    "\t[\"A footbal match\"],\n",
    "\t[\"A baseball match\"],\n",
    "\t[\"Cooking\"],\n",
    "\t[\"A video game\"],\n",
    "\t[\"A political man\"],\n",
    "\t[\"A political debate\"],\n",
    "\t[\"Barack Obama\"],\n",
    "\t[\"Abraham Lincoln\"],\n",
    "\t[\"A concert\"],\n",
    "\t[\"A computer screen\"],\n",
    "\t[\"Advertising\"],\n",
    "\t[\"Dragon ball\"],\n",
    "\t[\"A pair of shoes\"],\n",
    "\t[\"Elephants\"],\n",
    "\t[\"An iPhone\"],\n",
    "\t[\"A video clip\"],\n",
    "\t[\"A drawing\"],\n",
    "\t[\"A film\"],\n",
    "\t[\"A makeup tutorial\"],\n",
    "\t[\"Industrial machinery\"],\n",
    "\t[\"A person repairing a car\"]\n",
    "]"
   ]
  },
  {
   "cell_type": "code",
   "execution_count": null,
   "metadata": {},
   "outputs": [],
   "source": [
    "css = \"footer {display:none !important;} .gradio-container {min-height: 0px !important;}\"\n",
    "with gr.Blocks(css=css) as demo:\n",
    "\n",
    "    gr.Markdown(\"# Video scene retrieval\")\n",
    "\n",
    "    with gr.Tab(\"Query sources\"):\n",
    "        text_input = gr.Textbox()\n",
    "        k = gr.Slider(1, 10, 3, step=1, label=\"Number of results\")\n",
    "        examples = gr.Examples(examples, text_input)\n",
    "        query_button = gr.Button(\"Query\")\n",
    "        matches = gr.Dataset(components=[\"image\", \"text\"], label=\"Matches\", headers=[\"Matching frame\", \"Similarity\"])\n",
    "\n",
    "    with gr.Tab(\"Export\"):\n",
    "        export_gallery = gr.Gallery()\n",
    "\n",
    "    with gr.Tab(\"Add sources\"):\n",
    "        video_to_index = gr.Video()\n",
    "        progress = gr.Progress()\n",
    "        index_button = gr.Button(\"Index video\")\n",
    "\n",
    "    with gr.Tab(\"View Index\"):\n",
    "        for video in videos:\n",
    "            with gr.Row():\n",
    "                with gr.Column():\n",
    "                    gr.Video(str(video), label=video.stem)\n",
    "                with gr.Column():\n",
    "                    ds = gr.Dataset(\n",
    "                        components=[gr.Image(visible=False)],\n",
    "                        label=video.name,\n",
    "                        samples=[[x] for x in images_by_video[video.stem]]\n",
    "                    )\n",
    "\n",
    "    index_button.click(index, inputs=video_to_index)\n",
    "    query_button.click(query, inputs=[text_input, k], outputs=[matches, export_gallery])\n",
    "    text_input.submit(query, inputs=[text_input, k], outputs=[matches, export_gallery])\n",
    "    export_gallery.select(export, inputs=export_gallery)\n",
    "\n",
    "demo.lunch()\n",
    "        "
   ]
  }
 ],
 "metadata": {
  "kernelspec": {
   "display_name": "Python 3",
   "language": "python",
   "name": "python3"
  },
  "language_info": {
   "codemirror_mode": {
    "name": "ipython",
    "version": 3
   },
   "file_extension": ".py",
   "mimetype": "text/x-python",
   "name": "python",
   "nbconvert_exporter": "python",
   "pygments_lexer": "ipython3",
   "version": "3.10.10"
  }
 },
 "nbformat": 4,
 "nbformat_minor": 2
}
