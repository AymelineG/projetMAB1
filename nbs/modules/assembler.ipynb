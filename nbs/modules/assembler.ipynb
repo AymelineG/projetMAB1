{
 "cells": [
  {
   "cell_type": "code",
   "execution_count": null,
   "metadata": {},
   "outputs": [],
   "source": [
    "#| default_exp assembler"
   ]
  },
  {
   "cell_type": "code",
   "execution_count": 5,
   "metadata": {},
   "outputs": [],
   "source": [
    "#| export\n",
    "import ffmpeg\n",
    "from os.path import basename, splitext\n",
    "import datetime as dt\n"
   ]
  },
  {
   "cell_type": "code",
   "execution_count": 6,
   "metadata": {},
   "outputs": [],
   "source": [
    "#| export\n",
    "def assembly(videos : list[str]):\n",
    "    in_files = ()\n",
    "    name_ouput_file = ''\n",
    "    for video in videos:\n",
    "        in_files += (ffmpeg.input(video, loglevel='warning', copyts=None),)\n",
    "        name_ouput_file += splitext(basename(video))[0] + '_'\n",
    "    time = dt.datetime.now()\n",
    "    time_format = str(time.year) + '-' + str(time.month) + '-' + str(time.day) + '-' + str(time.hour) + '-' + str(time.minute) + '-' + str(time.second) + '-' + str(time.microsecond)\n",
    "    out_file = \"../../data/runtime/resume/\" + name_ouput_file + time_format + '.mp4'\n",
    "    (\n",
    "        ffmpeg.concat(*in_files).filter('setpts', expr='PTS-STARTPTS').output(out_file, vsync='2').run()\n",
    "    )\n",
    "    return out_file"
   ]
  },
  {
   "cell_type": "code",
   "execution_count": 7,
   "metadata": {},
   "outputs": [
    {
     "name": "stderr",
     "output_type": "stream",
     "text": [
      "[libx264 @ 0x653a7ba02940] MB rate (1620000000) > level limit (16711680)\n"
     ]
    },
    {
     "name": "stdout",
     "output_type": "stream",
     "text": [
      "../../data/runtime/resume/unicorn_0_333_video2_423_492_2024-8-10-21-52-19-945377.mp4\n"
     ]
    },
    {
     "name": "stderr",
     "output_type": "stream",
     "text": [
      "More than 1000000 frames duplicated\n"
     ]
    }
   ],
   "source": [
    "videos = ['../../data/runtime/fragments/unicorn_0_333.mp4', '../../data/runtime/fragments/video2_423_492.mp4']\n",
    "out_file = assembly(videos)\n",
    "print(out_file)"
   ]
  }
 ],
 "metadata": {
  "kernelspec": {
   "display_name": "Python 3",
   "language": "python",
   "name": "python3"
  },
  "language_info": {
   "codemirror_mode": {
    "name": "ipython",
    "version": 3
   },
   "file_extension": ".py",
   "mimetype": "text/x-python",
   "name": "python",
   "nbconvert_exporter": "python",
   "pygments_lexer": "ipython3",
   "version": "3.10.12"
  }
 },
 "nbformat": 4,
 "nbformat_minor": 2
}
