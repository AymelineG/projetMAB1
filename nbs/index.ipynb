{
 "cells": [
  {
   "cell_type": "code",
   "execution_count": null,
   "metadata": {},
   "outputs": [],
   "source": [
    "#| hide\n",
    "from projetMAB1.core import *"
   ]
  },
  {
   "cell_type": "markdown",
   "metadata": {},
   "source": [
    "# Projet MAB1 - Giloteau Aymeline\n",
    "\n",
    "> Montage vidéo guidé par un script"
   ]
  },
  {
   "cell_type": "markdown",
   "metadata": {},
   "source": [
    "## Installation"
   ]
  },
  {
   "cell_type": "markdown",
   "metadata": {},
   "source": [
    "Pour installer l'application, il faut premièrement récupérer le code. Une fois cette opération faite, il est nécessaire de s'assurer qu'une version 3 de python a été installée. Ensuite, en utilisant la commande suivante,\n",
    "```sh\n",
    "pip install -r requirements.txt\n",
    "```\n",
    "vous installez les librairies nécessaires pour le projet. Lorsque nbdev a été correctement installé, vous pouvez exécuter cette commande : \n",
    "```sh\n",
    "pip install -e '.[dev]'\n",
    "```\n",
    "Cela permet de s'assurer que toutes les librairies ont bien été installées et si ce n'est pas le cas pour certaines d'entre elles, la commande les installe.\n",
    "\n",
    "Par la suite, vous devez installer Quarto grâce à la commande suivante :\n",
    "```sh\n",
    "nbdev_install_quarto\n",
    "```\n",
    "\n",
    "Enfin, la commande  \n",
    "```sh\n",
    "nbdev_export\n",
    "```\n",
    "permet d'exporter les librairies crées dans le projet afin de s'assurer que tous les éléments soient réunis pour le bon fonctionnement de l'application.\n",
    "\n"
   ]
  },
  {
   "cell_type": "markdown",
   "metadata": {},
   "source": [
    "## Utilisation"
   ]
  },
  {
   "cell_type": "markdown",
   "metadata": {},
   "source": [
    "Premièrement, l'application a deux interfaces. L'une qui permet simplement de lire la documentation et les résultats des opérations. Elle a été crée grâce à nbdev et peut être démarrée par la commande suivante : \n",
    "```sh\n",
    "nbdev_preview\n",
    "```\n",
    "\n",
    "La seconde interface, qui est beaucoup plus utile pour l'utilisateur, a été créée grâce à gradio. Pour la démarrer, il faut se rendre sur le fichier \"interface.ipynb\" qui se trouve dans le dossier \"nbs/modules\" du projet. Ensuite, vous devez cliquer sur le bouton d'exécution. Si vous êtes sur Visual Studio Code, il se trouve sur le haut de l'écran (bouton \"run all\").\n",
    "\n",
    "Une fois que l'application est démarrée, vous pouvez voir l'écran à la fin du fichier. Vous devez ouvrir l'URL (\"http://127.0.0.1:XXXX\" avec XXXX correspondant à un numéro de port) donnée dans un navigateur internet comme Google Chrome ou Microsoft Edge.\n",
    "\n",
    "Une fois que vous avez suivi ces étapes, vous arrivez sur l'écran que l'on peut déjà apercevoir dans la fin du fichier \"interface.ipynb\". Dans cet écran, vous pouvez voir les trois onglets : \"Indexation\", \"Galerie\" et \"Résumé vidéo\".\n",
    "\n",
    "Dans le premier onglet (\"Indexation\"), nous retrouvons une zone de dépôt de fichiers et un bouton. Si nous déposons un fichier dans la zone et que nous cliquons sur le bouton, la vidéo déposée sera indexée et découpée en petits morceaux.\n",
    "\n",
    "Dans le second onglet (\"Galerie\"), nous pouvons observer toutes les vidéos qui ont déjà été indexées ainsi que les différents morceaux.\n",
    "\n",
    "Enfin, dans le dernier onglet (\"Résumé vidéo\"), il est possible de faire une requête en écrivant du texte en anglais (car le modèle clip ne prend en charge que l'anglais) et en appuyant sur le bouton. Une fois cela effectué, l'application se charge d'effectuer la requête, de récupérer les différents morceaux de la vidéo qui correspondent au texte entré, de les assembler et enfin d'afficher le tout."
   ]
  }
 ],
 "metadata": {
  "kernelspec": {
   "display_name": "python3",
   "language": "python",
   "name": "python3"
  },
  "language_info": {
   "codemirror_mode": {
    "name": "ipython",
    "version": 3
   },
   "file_extension": ".py",
   "mimetype": "text/x-python",
   "name": "python",
   "nbconvert_exporter": "python",
   "pygments_lexer": "ipython3",
   "version": "3.10.10"
  }
 },
 "nbformat": 4,
 "nbformat_minor": 4
}
